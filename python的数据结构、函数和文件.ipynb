{
 "cells": [
  {
   "cell_type": "markdown",
   "metadata": {},
   "source": [
    "# 常用逻辑\n",
    "=======  1  ========\n",
    "```\n",
    "if key in some_dict:\n",
    "    value = some_dict[key]\n",
    "else:\n",
    "    value = default_value\n",
    "```\n",
    "\n",
    "======  2  ======\n",
    "```\n",
    "value = some_dict.get(key, default_value)\n",
    "```"
   ]
  },
  {
   "cell_type": "code",
   "execution_count": 3,
   "metadata": {},
   "outputs": [
    {
     "name": "stdout",
     "output_type": "stream",
     "text": [
      "{'a': ['apple', 'atom'], 'b': ['bat', 'bar', 'book']}\n",
      "defaultdict(<class 'list'>, {'a': ['apple', 'atom'], 'b': ['bat', 'bar', 'book']})\n"
     ]
    }
   ],
   "source": [
    "words = ['apple', 'bat', 'bar', 'atom', 'book']\n",
    "\n",
    "by_letter = {}\n",
    "\n",
    "# -------------  1  ---------------\n",
    "for word in words:\n",
    "    letter = word[0]\n",
    "    if letter not in by_letter:\n",
    "        by_letter[letter] = [word]\n",
    "    else:\n",
    "        by_letter[letter].append(word)\n",
    "\n",
    "print(by_letter)\n",
    "\n",
    "# -------------  2  ------------------\n",
    "from collections import defaultdict\n",
    "by_letter = defaultdict(list)\n",
    "for word in words:\n",
    "    by_letter[word[0]].append(word)\n",
    "\n",
    "print(by_letter)"
   ]
  },
  {
   "cell_type": "markdown",
   "metadata": {},
   "source": [
    "可哈希性： 不可变的标量类型或元组   -- 可以用 hash() 函数检测哈希性\n",
    "\n",
    "对于列表，内部元素可哈希，就可以哈希"
   ]
  },
  {
   "cell_type": "markdown",
   "metadata": {},
   "source": [
    "集合的建立、合并、交集、差分、对称差"
   ]
  },
  {
   "cell_type": "code",
   "execution_count": 8,
   "metadata": {},
   "outputs": [
    {
     "name": "stdout",
     "output_type": "stream",
     "text": [
      "{1, 2, 3, 4, 392, 23, 24} {1, 2, 3, 4, 5, 6, 8}\n",
      "{1, 2, 3, 4, 5, 6, 392, 8, 23, 24}\n",
      "{1, 2, 3, 4, 392, 23, 24}\n",
      "{1, 2, 3, 4, 5, 6, 392, 8, 23, 24}\n",
      "{1, 2, 3, 4}\n",
      "{1, 2, 3, 4}\n"
     ]
    }
   ],
   "source": [
    "a = set([1, 2, 3, 4, 392, 23, 24])\n",
    "b = {1, 2, 3, 4, 4, 5, 6, 6, 5, 6, 8}\n",
    "print(a, b)\n",
    "\n",
    "print(a.union(b))\n",
    "# print(a)\n",
    "\n",
    "print(a | b)\n",
    "\n",
    "# 交集\n",
    "print(a.intersection(b))\n",
    "print(a & b)\n",
    "\n",
    "'''\n",
    "a.add()\n",
    "a.clear()\n",
    "a.remove(x)\n",
    "a.pop()\n",
    "a.issuperset(b)\n",
    "a.issubset(b)\n",
    "a.isdisjoint(b)\n",
    "'''"
   ]
  },
  {
   "cell_type": "code",
   "execution_count": 2,
   "metadata": {},
   "outputs": [
    {
     "name": "stdout",
     "output_type": "stream",
     "text": [
      "{(1, 2, 3, 4)}\n"
     ]
    }
   ],
   "source": [
    "my_data = [1, 2, 3, 4]\n",
    "my_set = {tuple(my_data)}\n",
    "print(my_set)"
   ]
  },
  {
   "cell_type": "markdown",
   "metadata": {},
   "source": [
    "列表、集合、字典推导式"
   ]
  },
  {
   "cell_type": "markdown",
   "metadata": {},
   "source": [
    "```py\n",
    "dict_comp = {key_expr: value_expr for value in collection if condition}\n",
    "\n",
    "set_comp = {expr for value in collection if condition}\n",
    "\n",
    "loc_mapping = {val : index for index, val in enumerate(strings)}\n",
    "\n",
    "result = [name for names in all_data for name in names\n",
    "            if name.count('e') >= 2]\n",
    "\n",
    "[[x for x in tup] for tup in some_tuples]\n",
    "```"
   ]
  },
  {
   "cell_type": "code",
   "execution_count": 6,
   "metadata": {},
   "outputs": [
    {
     "data": {
      "text/plain": [
       "['Aliababa', 'Lskjdflj', 'Sjldkjflskdjfsdjf8S8Dfsdkfj']"
      ]
     },
     "execution_count": 6,
     "metadata": {},
     "output_type": "execute_result"
    }
   ],
   "source": [
    "states = ['  aliababa', 'lskjdflj!', 'sjldkjf lskdjf sdjf8s8**Dfsdkfj']\n",
    "\n",
    "import re\n",
    "\n",
    "def clean_strings(strings):\n",
    "    result = []\n",
    "    for value in strings:\n",
    "        value = value.strip()\n",
    "        value = re.sub('[!#?* ]', '', value)\n",
    "        value = value.title()\n",
    "        result.append(value)\n",
    "    return result\n",
    "clean_strings(states)"
   ]
  },
  {
   "cell_type": "markdown",
   "metadata": {},
   "source": [
    "柯里化：部分参数应用：curring\n",
    "```py\n",
    "def add_number(x, y)\n",
    "    return x + y\n",
    "\n",
    "add_five = lambda y: add_numnbers(5, y)\n",
    "\n",
    "# method 2\n",
    "from functools import partial \n",
    "add_five = partial(add_numbers, 5)\n",
    "```"
   ]
  },
  {
   "cell_type": "markdown",
   "metadata": {},
   "source": [
    "#### 生成器\n",
    "迭代器协议：iterator protocol:使对象可迭代的通用方式\n"
   ]
  },
  {
   "cell_type": "code",
   "execution_count": 7,
   "metadata": {},
   "outputs": [
    {
     "name": "stdout",
     "output_type": "stream",
     "text": [
      "a\n",
      "b\n",
      "c\n",
      "<dict_keyiterator object at 0x7f3949e2e890>\n",
      "['a', 'b', 'c']\n"
     ]
    }
   ],
   "source": [
    "some_dict = {'a':1, 'b':2, 'c':3}\n",
    "for key in some_dict:\n",
    "    print(key)\n",
    "\n",
    "dict_iterator = iter(some_dict)\n",
    "print(dict_iterator)\n",
    "\n",
    "print(list(dict_iterator))"
   ]
  },
  {
   "cell_type": "markdown",
   "metadata": {},
   "source": [
    "#### 创建生成器\n",
    "将函数中的 return 转换为 yeild\n",
    "\n",
    "： 调用生成器时， 不会产生代码，请求元素时，才会执行代码\n",
    "\n",
    "：将列表推导式两端方括号改为圆括号，就是生成器表达式\n"
   ]
  },
  {
   "cell_type": "markdown",
   "metadata": {},
   "source": [
    "#### groupby\n",
    "1. combination:无序 k 元序列\n",
    "2. permutations:有序 k 元序列\n",
    "3. groupby:为唯一键生成（k，sub-iter）\n",
    "4. product:输入的iter笛卡尔积，结果是元组"
   ]
  },
  {
   "cell_type": "code",
   "execution_count": 9,
   "metadata": {},
   "outputs": [
    {
     "name": "stdout",
     "output_type": "stream",
     "text": [
      "l ['lskdjf']\n",
      "s ['sldjkf']\n",
      "j ['jslkdjf']\n"
     ]
    }
   ],
   "source": [
    "import itertools\n",
    "first_letter = lambda x:x[0]\n",
    "names = ['lskdjf','sldjkf','jslkdjf']\n",
    "for letter, names in itertools.groupby(names, first_letter):\n",
    "    print(letter, list(names))"
   ]
  },
  {
   "cell_type": "markdown",
   "metadata": {},
   "source": [
    "#### 错误和异常\n",
    "IPython中的异常（选"
   ]
  },
  {
   "cell_type": "code",
   "execution_count": 16,
   "metadata": {},
   "outputs": [],
   "source": [
    "def attempt_float(x):\n",
    "    try:\n",
    "        print(float(x))\n",
    "    except ValueError:  # 控制错误类型，可以用元祖包含多个异常\n",
    "        return x\n",
    "    finally:\n",
    "        return"
   ]
  },
  {
   "cell_type": "markdown",
   "metadata": {},
   "source": [
    "```py\n",
    "# try 成功才执行 else\n",
    "f = open(path, 'w')\n",
    "try:\n",
    "    write_to_file(f)\n",
    "except:\n",
    "    print('Failed')\n",
    "else:\n",
    "    print('Succeeded')\n",
    "finally:\n",
    "    f.close()\n",
    "```    "
   ]
  },
  {
   "cell_type": "markdown",
   "metadata": {},
   "source": [
    "#### 文件和操作系统\n",
    "```py\n",
    "path = 'example/segismundo.txt'\n",
    "f = open(path)\n",
    "\n",
    "for line in f:\n",
    "    pass\n",
    "    \n",
    "    \n",
    "lines = [x.rstrip() for x in open(path)]\n",
    "\n",
    "f.close  # 对应open（）\n",
    "\n",
    "f = open(path)\n",
    "f.read(10)\n",
    "\n",
    "f2 = open(path, 'rb')  # Binary mode\n",
    "```\n",
    "    read() 字符串返回文件数据\n",
    "    readlines() 返回行列表\n",
    "    write()\n",
    "    close()\n",
    "    flush() 清空内部I/O缓存区，将数据强行写会磁盘\n",
    "    seek()  移动到指定文件位置\n",
    "    tell()  以整数形式返回当前文件位置\n",
    "    closed  判断是否关闭"
   ]
  },
  {
   "cell_type": "markdown",
   "metadata": {},
   "source": [
    "```py\n",
    "sink_path = 'sink.txt'\n",
    "with open(path) as source:\n",
    "    with open(sink_path, 'xt', encoding = 'iso-8859-1') as sink:\n",
    "            sink.write(source.read())\n",
    "            \n",
    "with open(sink_path, encoding = 'iso-8859-1') as f:\n",
    "    print（f.read(10))\n",
    "```\n"
   ]
  },
  {
   "cell_type": "code",
   "execution_count": null,
   "metadata": {},
   "outputs": [],
   "source": [
    "\n"
   ]
  }
 ],
 "metadata": {
  "kernelspec": {
   "display_name": "Python 3",
   "language": "python",
   "name": "python3"
  },
  "language_info": {
   "codemirror_mode": {
    "name": "ipython",
    "version": 3
   },
   "file_extension": ".py",
   "mimetype": "text/x-python",
   "name": "python",
   "nbconvert_exporter": "python",
   "pygments_lexer": "ipython3",
   "version": "3.7.9"
  }
 },
 "nbformat": 4,
 "nbformat_minor": 4
}
